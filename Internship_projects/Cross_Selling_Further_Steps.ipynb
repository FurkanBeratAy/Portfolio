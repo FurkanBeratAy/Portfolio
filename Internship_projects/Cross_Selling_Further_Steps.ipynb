{
 "cells": [
  {
   "cell_type": "code",
   "execution_count": 5,
   "metadata": {},
   "outputs": [],
   "source": [
    "import pandas as pd\n",
    "import numpy as np\n",
    "import matplotlib.pyplot as plt\n",
    "import seaborn as sns\n",
    "from sklearn.model_selection import train_test_split\n",
    "from sklearn.metrics import confusion_matrix, classification_report, roc_auc_score, roc_curve\n",
    "from sklearn.preprocessing import StandardScaler\n",
    "from sklearn.model_selection import GridSearchCV\n",
    "from sklearn.ensemble import ExtraTreesClassifier\n",
    "from sklearn.linear_model import LogisticRegression\n",
    "from sklearn.tree import DecisionTreeClassifier\n",
    "from sklearn.ensemble import RandomForestClassifier\n",
    "from sklearn.naive_bayes import BernoulliNB \n",
    "from sklearn.neighbors import KNeighborsClassifier\n",
    "from sklearn.svm import SVC\n",
    "from sklearn.ensemble import RandomForestClassifier\n",
    "from sklearn.ensemble import GradientBoostingClassifier\n",
    "from sklearn import metrics\n",
    "from sklearn.metrics import classification_report\n",
    "from sklearn.model_selection import cross_val_score\n",
    "from sklearn.metrics import confusion_matrix\n",
    "import warnings\n",
    "warnings.filterwarnings('ignore')\n"
   ]
  },
  {
   "cell_type": "code",
   "execution_count": 6,
   "metadata": {},
   "outputs": [],
   "source": [
    "df = pd.read_csv('Test.csv',low_memory= False)"
   ]
  },
  {
   "cell_type": "code",
   "execution_count": 7,
   "metadata": {},
   "outputs": [
    {
     "data": {
      "text/html": [
       "<div>\n",
       "<style scoped>\n",
       "    .dataframe tbody tr th:only-of-type {\n",
       "        vertical-align: middle;\n",
       "    }\n",
       "\n",
       "    .dataframe tbody tr th {\n",
       "        vertical-align: top;\n",
       "    }\n",
       "\n",
       "    .dataframe thead th {\n",
       "        text-align: right;\n",
       "    }\n",
       "</style>\n",
       "<table border=\"1\" class=\"dataframe\">\n",
       "  <thead>\n",
       "    <tr style=\"text-align: right;\">\n",
       "      <th></th>\n",
       "      <th>fecha_dato</th>\n",
       "      <th>ncodpers</th>\n",
       "      <th>ind_empleado</th>\n",
       "      <th>pais_residencia</th>\n",
       "      <th>sexo</th>\n",
       "      <th>age</th>\n",
       "      <th>fecha_alta</th>\n",
       "      <th>ind_nuevo</th>\n",
       "      <th>antiguedad</th>\n",
       "      <th>indrel</th>\n",
       "      <th>...</th>\n",
       "      <th>indext</th>\n",
       "      <th>conyuemp</th>\n",
       "      <th>canal_entrada</th>\n",
       "      <th>indfall</th>\n",
       "      <th>tipodom</th>\n",
       "      <th>cod_prov</th>\n",
       "      <th>nomprov</th>\n",
       "      <th>ind_actividad_cliente</th>\n",
       "      <th>renta</th>\n",
       "      <th>segmento</th>\n",
       "    </tr>\n",
       "  </thead>\n",
       "  <tbody>\n",
       "    <tr>\n",
       "      <th>0</th>\n",
       "      <td>2016-06-28</td>\n",
       "      <td>15889</td>\n",
       "      <td>F</td>\n",
       "      <td>ES</td>\n",
       "      <td>V</td>\n",
       "      <td>56</td>\n",
       "      <td>1995-01-16</td>\n",
       "      <td>0</td>\n",
       "      <td>256</td>\n",
       "      <td>1</td>\n",
       "      <td>...</td>\n",
       "      <td>N</td>\n",
       "      <td>N</td>\n",
       "      <td>KAT</td>\n",
       "      <td>N</td>\n",
       "      <td>1</td>\n",
       "      <td>28.0</td>\n",
       "      <td>MADRID</td>\n",
       "      <td>1</td>\n",
       "      <td>326124.90</td>\n",
       "      <td>01 - TOP</td>\n",
       "    </tr>\n",
       "    <tr>\n",
       "      <th>1</th>\n",
       "      <td>2016-06-28</td>\n",
       "      <td>1170544</td>\n",
       "      <td>N</td>\n",
       "      <td>ES</td>\n",
       "      <td>H</td>\n",
       "      <td>36</td>\n",
       "      <td>2013-08-28</td>\n",
       "      <td>0</td>\n",
       "      <td>34</td>\n",
       "      <td>1</td>\n",
       "      <td>...</td>\n",
       "      <td>N</td>\n",
       "      <td>NaN</td>\n",
       "      <td>KAT</td>\n",
       "      <td>N</td>\n",
       "      <td>1</td>\n",
       "      <td>3.0</td>\n",
       "      <td>ALICANTE</td>\n",
       "      <td>0</td>\n",
       "      <td>NA</td>\n",
       "      <td>02 - PARTICULARES</td>\n",
       "    </tr>\n",
       "    <tr>\n",
       "      <th>2</th>\n",
       "      <td>2016-06-28</td>\n",
       "      <td>1170545</td>\n",
       "      <td>N</td>\n",
       "      <td>ES</td>\n",
       "      <td>V</td>\n",
       "      <td>22</td>\n",
       "      <td>2013-08-28</td>\n",
       "      <td>0</td>\n",
       "      <td>34</td>\n",
       "      <td>1</td>\n",
       "      <td>...</td>\n",
       "      <td>N</td>\n",
       "      <td>NaN</td>\n",
       "      <td>KHE</td>\n",
       "      <td>N</td>\n",
       "      <td>1</td>\n",
       "      <td>15.0</td>\n",
       "      <td>CORUÑA, A</td>\n",
       "      <td>1</td>\n",
       "      <td>NA</td>\n",
       "      <td>03 - UNIVERSITARIO</td>\n",
       "    </tr>\n",
       "    <tr>\n",
       "      <th>3</th>\n",
       "      <td>2016-06-28</td>\n",
       "      <td>1170547</td>\n",
       "      <td>N</td>\n",
       "      <td>ES</td>\n",
       "      <td>H</td>\n",
       "      <td>22</td>\n",
       "      <td>2013-08-28</td>\n",
       "      <td>0</td>\n",
       "      <td>34</td>\n",
       "      <td>1</td>\n",
       "      <td>...</td>\n",
       "      <td>N</td>\n",
       "      <td>NaN</td>\n",
       "      <td>KHE</td>\n",
       "      <td>N</td>\n",
       "      <td>1</td>\n",
       "      <td>8.0</td>\n",
       "      <td>BARCELONA</td>\n",
       "      <td>0</td>\n",
       "      <td>148402.98</td>\n",
       "      <td>03 - UNIVERSITARIO</td>\n",
       "    </tr>\n",
       "    <tr>\n",
       "      <th>4</th>\n",
       "      <td>2016-06-28</td>\n",
       "      <td>1170548</td>\n",
       "      <td>N</td>\n",
       "      <td>ES</td>\n",
       "      <td>H</td>\n",
       "      <td>22</td>\n",
       "      <td>2013-08-28</td>\n",
       "      <td>0</td>\n",
       "      <td>34</td>\n",
       "      <td>1</td>\n",
       "      <td>...</td>\n",
       "      <td>N</td>\n",
       "      <td>NaN</td>\n",
       "      <td>KHE</td>\n",
       "      <td>N</td>\n",
       "      <td>1</td>\n",
       "      <td>7.0</td>\n",
       "      <td>BALEARS, ILLES</td>\n",
       "      <td>0</td>\n",
       "      <td>106885.80</td>\n",
       "      <td>03 - UNIVERSITARIO</td>\n",
       "    </tr>\n",
       "    <tr>\n",
       "      <th>...</th>\n",
       "      <td>...</td>\n",
       "      <td>...</td>\n",
       "      <td>...</td>\n",
       "      <td>...</td>\n",
       "      <td>...</td>\n",
       "      <td>...</td>\n",
       "      <td>...</td>\n",
       "      <td>...</td>\n",
       "      <td>...</td>\n",
       "      <td>...</td>\n",
       "      <td>...</td>\n",
       "      <td>...</td>\n",
       "      <td>...</td>\n",
       "      <td>...</td>\n",
       "      <td>...</td>\n",
       "      <td>...</td>\n",
       "      <td>...</td>\n",
       "      <td>...</td>\n",
       "      <td>...</td>\n",
       "      <td>...</td>\n",
       "      <td>...</td>\n",
       "    </tr>\n",
       "    <tr>\n",
       "      <th>929610</th>\n",
       "      <td>2016-06-28</td>\n",
       "      <td>660237</td>\n",
       "      <td>N</td>\n",
       "      <td>ES</td>\n",
       "      <td>V</td>\n",
       "      <td>55</td>\n",
       "      <td>1999-04-21</td>\n",
       "      <td>0</td>\n",
       "      <td>206</td>\n",
       "      <td>1</td>\n",
       "      <td>...</td>\n",
       "      <td>N</td>\n",
       "      <td>NaN</td>\n",
       "      <td>KAT</td>\n",
       "      <td>N</td>\n",
       "      <td>1</td>\n",
       "      <td>28.0</td>\n",
       "      <td>MADRID</td>\n",
       "      <td>1</td>\n",
       "      <td>128643.57</td>\n",
       "      <td>01 - TOP</td>\n",
       "    </tr>\n",
       "    <tr>\n",
       "      <th>929611</th>\n",
       "      <td>2016-06-28</td>\n",
       "      <td>660238</td>\n",
       "      <td>N</td>\n",
       "      <td>ES</td>\n",
       "      <td>V</td>\n",
       "      <td>30</td>\n",
       "      <td>2006-11-29</td>\n",
       "      <td>0</td>\n",
       "      <td>115</td>\n",
       "      <td>1</td>\n",
       "      <td>...</td>\n",
       "      <td>N</td>\n",
       "      <td>NaN</td>\n",
       "      <td>KFC</td>\n",
       "      <td>N</td>\n",
       "      <td>1</td>\n",
       "      <td>26.0</td>\n",
       "      <td>RIOJA, LA</td>\n",
       "      <td>0</td>\n",
       "      <td>NA</td>\n",
       "      <td>02 - PARTICULARES</td>\n",
       "    </tr>\n",
       "    <tr>\n",
       "      <th>929612</th>\n",
       "      <td>2016-06-28</td>\n",
       "      <td>660240</td>\n",
       "      <td>N</td>\n",
       "      <td>ES</td>\n",
       "      <td>V</td>\n",
       "      <td>52</td>\n",
       "      <td>2006-11-29</td>\n",
       "      <td>0</td>\n",
       "      <td>115</td>\n",
       "      <td>1</td>\n",
       "      <td>...</td>\n",
       "      <td>N</td>\n",
       "      <td>NaN</td>\n",
       "      <td>KBZ</td>\n",
       "      <td>N</td>\n",
       "      <td>1</td>\n",
       "      <td>33.0</td>\n",
       "      <td>ASTURIAS</td>\n",
       "      <td>1</td>\n",
       "      <td>72765.27</td>\n",
       "      <td>02 - PARTICULARES</td>\n",
       "    </tr>\n",
       "    <tr>\n",
       "      <th>929613</th>\n",
       "      <td>2016-06-28</td>\n",
       "      <td>660243</td>\n",
       "      <td>N</td>\n",
       "      <td>ES</td>\n",
       "      <td>V</td>\n",
       "      <td>32</td>\n",
       "      <td>2006-11-29</td>\n",
       "      <td>0</td>\n",
       "      <td>115</td>\n",
       "      <td>1</td>\n",
       "      <td>...</td>\n",
       "      <td>N</td>\n",
       "      <td>NaN</td>\n",
       "      <td>KFC</td>\n",
       "      <td>N</td>\n",
       "      <td>1</td>\n",
       "      <td>33.0</td>\n",
       "      <td>ASTURIAS</td>\n",
       "      <td>0</td>\n",
       "      <td>147488.88</td>\n",
       "      <td>02 - PARTICULARES</td>\n",
       "    </tr>\n",
       "    <tr>\n",
       "      <th>929614</th>\n",
       "      <td>2016-06-28</td>\n",
       "      <td>660248</td>\n",
       "      <td>N</td>\n",
       "      <td>ES</td>\n",
       "      <td>V</td>\n",
       "      <td>92</td>\n",
       "      <td>2006-11-29</td>\n",
       "      <td>0</td>\n",
       "      <td>115</td>\n",
       "      <td>1</td>\n",
       "      <td>...</td>\n",
       "      <td>N</td>\n",
       "      <td>NaN</td>\n",
       "      <td>KAT</td>\n",
       "      <td>N</td>\n",
       "      <td>1</td>\n",
       "      <td>45.0</td>\n",
       "      <td>TOLEDO</td>\n",
       "      <td>0</td>\n",
       "      <td>NA</td>\n",
       "      <td>02 - PARTICULARES</td>\n",
       "    </tr>\n",
       "  </tbody>\n",
       "</table>\n",
       "<p>929615 rows × 24 columns</p>\n",
       "</div>"
      ],
      "text/plain": [
       "        fecha_dato  ncodpers ind_empleado pais_residencia sexo  age  \\\n",
       "0       2016-06-28     15889            F              ES    V   56   \n",
       "1       2016-06-28   1170544            N              ES    H   36   \n",
       "2       2016-06-28   1170545            N              ES    V   22   \n",
       "3       2016-06-28   1170547            N              ES    H   22   \n",
       "4       2016-06-28   1170548            N              ES    H   22   \n",
       "...            ...       ...          ...             ...  ...  ...   \n",
       "929610  2016-06-28    660237            N              ES    V   55   \n",
       "929611  2016-06-28    660238            N              ES    V   30   \n",
       "929612  2016-06-28    660240            N              ES    V   52   \n",
       "929613  2016-06-28    660243            N              ES    V   32   \n",
       "929614  2016-06-28    660248            N              ES    V   92   \n",
       "\n",
       "        fecha_alta  ind_nuevo  antiguedad  indrel  ... indext  conyuemp  \\\n",
       "0       1995-01-16          0         256       1  ...      N         N   \n",
       "1       2013-08-28          0          34       1  ...      N       NaN   \n",
       "2       2013-08-28          0          34       1  ...      N       NaN   \n",
       "3       2013-08-28          0          34       1  ...      N       NaN   \n",
       "4       2013-08-28          0          34       1  ...      N       NaN   \n",
       "...            ...        ...         ...     ...  ...    ...       ...   \n",
       "929610  1999-04-21          0         206       1  ...      N       NaN   \n",
       "929611  2006-11-29          0         115       1  ...      N       NaN   \n",
       "929612  2006-11-29          0         115       1  ...      N       NaN   \n",
       "929613  2006-11-29          0         115       1  ...      N       NaN   \n",
       "929614  2006-11-29          0         115       1  ...      N       NaN   \n",
       "\n",
       "       canal_entrada indfall tipodom cod_prov         nomprov  \\\n",
       "0                KAT       N       1     28.0          MADRID   \n",
       "1                KAT       N       1      3.0        ALICANTE   \n",
       "2                KHE       N       1     15.0       CORUÑA, A   \n",
       "3                KHE       N       1      8.0       BARCELONA   \n",
       "4                KHE       N       1      7.0  BALEARS, ILLES   \n",
       "...              ...     ...     ...      ...             ...   \n",
       "929610           KAT       N       1     28.0          MADRID   \n",
       "929611           KFC       N       1     26.0       RIOJA, LA   \n",
       "929612           KBZ       N       1     33.0        ASTURIAS   \n",
       "929613           KFC       N       1     33.0        ASTURIAS   \n",
       "929614           KAT       N       1     45.0          TOLEDO   \n",
       "\n",
       "       ind_actividad_cliente        renta            segmento  \n",
       "0                          1    326124.90            01 - TOP  \n",
       "1                          0           NA   02 - PARTICULARES  \n",
       "2                          1           NA  03 - UNIVERSITARIO  \n",
       "3                          0    148402.98  03 - UNIVERSITARIO  \n",
       "4                          0    106885.80  03 - UNIVERSITARIO  \n",
       "...                      ...          ...                 ...  \n",
       "929610                     1    128643.57            01 - TOP  \n",
       "929611                     0           NA   02 - PARTICULARES  \n",
       "929612                     1     72765.27   02 - PARTICULARES  \n",
       "929613                     0    147488.88   02 - PARTICULARES  \n",
       "929614                     0           NA   02 - PARTICULARES  \n",
       "\n",
       "[929615 rows x 24 columns]"
      ]
     },
     "execution_count": 7,
     "metadata": {},
     "output_type": "execute_result"
    }
   ],
   "source": [
    "df"
   ]
  },
  {
   "cell_type": "code",
   "execution_count": 8,
   "metadata": {},
   "outputs": [],
   "source": [
    "df.drop('pais_residencia', axis =1, inplace = True)\n",
    "df.drop('sexo', axis =1, inplace = True)\n",
    "df.drop('ind_nuevo', axis =1, inplace = True)\n",
    "df.drop('antiguedad', axis =1, inplace = True)\n",
    "df.drop('conyuemp', axis =1, inplace = True)\n",
    "df.drop('indresi', axis =1, inplace = True)\n",
    "df.drop('indext', axis =1, inplace = True)\n",
    "df.drop('ncodpers', axis =1, inplace = True)"
   ]
  },
  {
   "cell_type": "code",
   "execution_count": 9,
   "metadata": {},
   "outputs": [
    {
     "name": "stdout",
     "output_type": "stream",
     "text": [
      "<class 'pandas.core.frame.DataFrame'>\n",
      "RangeIndex: 929615 entries, 0 to 929614\n",
      "Data columns (total 16 columns):\n",
      " #   Column                 Non-Null Count   Dtype  \n",
      "---  ------                 --------------   -----  \n",
      " 0   fecha_dato             929615 non-null  object \n",
      " 1   ind_empleado           929615 non-null  object \n",
      " 2   age                    929615 non-null  int64  \n",
      " 3   fecha_alta             929615 non-null  object \n",
      " 4   indrel                 929615 non-null  int64  \n",
      " 5   ult_fec_cli_1t         1683 non-null    object \n",
      " 6   indrel_1mes            929592 non-null  float64\n",
      " 7   tiprel_1mes            929592 non-null  object \n",
      " 8   canal_entrada          927534 non-null  object \n",
      " 9   indfall                929615 non-null  object \n",
      " 10  tipodom                929615 non-null  int64  \n",
      " 11  cod_prov               925619 non-null  float64\n",
      " 12  nomprov                925619 non-null  object \n",
      " 13  ind_actividad_cliente  929615 non-null  int64  \n",
      " 14  renta                  929615 non-null  object \n",
      " 15  segmento               927367 non-null  object \n",
      "dtypes: float64(2), int64(4), object(10)\n",
      "memory usage: 113.5+ MB\n"
     ]
    }
   ],
   "source": [
    "df.info()"
   ]
  },
  {
   "cell_type": "code",
   "execution_count": 10,
   "metadata": {},
   "outputs": [],
   "source": [
    "df.rename({\"fecha_dato\": \"data_Partition\" ,\"ind_empleado\":\"employee_Index\",\"fecha_alta\":\"customer_Registration\",\"indrel\":\"primary_Status\",\"ult_fec_cli_1t\":\"Last_primary_status\",\"indrel_1mes\":\"type_of_owner\",\"tiprel_1mes\":\"relation_type\",\"canal_entrada\":\"channel_used\",\"indfall\":\"deceased_index\",\"tipodom\":\"primary_adrss\",\"cod_prov\":\"prov_code\",\"nomprov\":\"prov_name\",\"ind_actividad_cliente\":\"activity_index\",\"renta\":\"gross_income\",\"segmento\":\"segmentation\"}, axis =1, inplace = True)"
   ]
  },
  {
   "cell_type": "code",
   "execution_count": 11,
   "metadata": {},
   "outputs": [
    {
     "name": "stdout",
     "output_type": "stream",
     "text": [
      "<class 'pandas.core.frame.DataFrame'>\n",
      "RangeIndex: 929615 entries, 0 to 929614\n",
      "Data columns (total 16 columns):\n",
      " #   Column                 Non-Null Count   Dtype  \n",
      "---  ------                 --------------   -----  \n",
      " 0   data_Partition         929615 non-null  object \n",
      " 1   employee_Index         929615 non-null  object \n",
      " 2   age                    929615 non-null  int64  \n",
      " 3   customer_Registration  929615 non-null  object \n",
      " 4   primary_Status         929615 non-null  int64  \n",
      " 5   Last_primary_status    1683 non-null    object \n",
      " 6   type_of_owner          929592 non-null  float64\n",
      " 7   relation_type          929592 non-null  object \n",
      " 8   channel_used           927534 non-null  object \n",
      " 9   deceased_index         929615 non-null  object \n",
      " 10  primary_adrss          929615 non-null  int64  \n",
      " 11  prov_code              925619 non-null  float64\n",
      " 12  prov_name              925619 non-null  object \n",
      " 13  activity_index         929615 non-null  int64  \n",
      " 14  gross_income           929615 non-null  object \n",
      " 15  segmentation           927367 non-null  object \n",
      "dtypes: float64(2), int64(4), object(10)\n",
      "memory usage: 113.5+ MB\n"
     ]
    }
   ],
   "source": [
    "df.info()"
   ]
  },
  {
   "cell_type": "code",
   "execution_count": 12,
   "metadata": {},
   "outputs": [
    {
     "data": {
      "text/plain": [
       "deceased_index\n",
       "No     927215\n",
       "Yes      2400\n",
       "Name: count, dtype: int64"
      ]
     },
     "execution_count": 12,
     "metadata": {},
     "output_type": "execute_result"
    }
   ],
   "source": [
    "df['deceased_index']= df['deceased_index'].replace(\"S\",\"Yes\").replace(\"N\",\"No\")\n",
    "df['deceased_index'].value_counts()"
   ]
  },
  {
   "cell_type": "code",
   "execution_count": 13,
   "metadata": {},
   "outputs": [
    {
     "name": "stdout",
     "output_type": "stream",
     "text": [
      "<class 'pandas.core.frame.DataFrame'>\n",
      "RangeIndex: 929615 entries, 0 to 929614\n",
      "Data columns (total 16 columns):\n",
      " #   Column                 Non-Null Count   Dtype  \n",
      "---  ------                 --------------   -----  \n",
      " 0   data_Partition         929615 non-null  object \n",
      " 1   employee_Index         929615 non-null  object \n",
      " 2   age                    929615 non-null  int64  \n",
      " 3   customer_Registration  929615 non-null  object \n",
      " 4   primary_Status         929615 non-null  int64  \n",
      " 5   Last_primary_status    1683 non-null    object \n",
      " 6   type_of_owner          929592 non-null  float64\n",
      " 7   relation_type          929592 non-null  object \n",
      " 8   channel_used           927534 non-null  object \n",
      " 9   deceased_index         929615 non-null  object \n",
      " 10  primary_adrss          929615 non-null  int64  \n",
      " 11  prov_code              925619 non-null  float64\n",
      " 12  prov_name              925619 non-null  object \n",
      " 13  activity_index         929615 non-null  int64  \n",
      " 14  gross_income           929615 non-null  object \n",
      " 15  segmentation           927367 non-null  object \n",
      "dtypes: float64(2), int64(4), object(10)\n",
      "memory usage: 113.5+ MB\n"
     ]
    }
   ],
   "source": [
    "df.info()"
   ]
  },
  {
   "cell_type": "code",
   "execution_count": 14,
   "metadata": {},
   "outputs": [
    {
     "name": "stdout",
     "output_type": "stream",
     "text": [
      "Values:  \n",
      "data_Partition\n",
      "2016-06-28    929615\n",
      "Name: count, dtype: int64\n",
      "Null Values: \n",
      "data_Partition    False\n",
      "dtype: bool\n"
     ]
    }
   ],
   "source": [
    "print(\"Values:  \")\n",
    "print(df['data_Partition'].value_counts())\n",
    "print(\"Null Values: \")\n",
    "print(df[['data_Partition']].isnull().any())"
   ]
  },
  {
   "cell_type": "code",
   "execution_count": 15,
   "metadata": {},
   "outputs": [
    {
     "name": "stdout",
     "output_type": "stream",
     "text": [
      "Values: \n",
      "employee_Index\n",
      "N    929096\n",
      "B       218\n",
      "F       152\n",
      "A       148\n",
      "S         1\n",
      "Name: count, dtype: int64\n",
      "Null Values: \n",
      "employee_Index    False\n",
      "dtype: bool\n"
     ]
    }
   ],
   "source": [
    "print(\"Values: \")\n",
    "print(df['employee_Index'].value_counts())\n",
    "print(\"Null Values: \")\n",
    "print(df[['employee_Index']].isnull().any())"
   ]
  },
  {
   "cell_type": "code",
   "execution_count": 16,
   "metadata": {},
   "outputs": [
    {
     "name": "stdout",
     "output_type": "stream",
     "text": [
      "Values: \n",
      "age\n",
      "24     50706\n",
      "23     49604\n",
      "22     47674\n",
      "21     46322\n",
      "25     41429\n",
      "       ...  \n",
      "114        6\n",
      "117        1\n",
      "164        1\n",
      "118        1\n",
      "127        1\n",
      "Name: count, Length: 118, dtype: int64\n",
      "Null Values: \n",
      "age    False\n",
      "dtype: bool\n"
     ]
    }
   ],
   "source": [
    "print( \"Values: \")\n",
    "print(df['age'].value_counts())\n",
    "print(\"Null Values: \")\n",
    "print(df[['age']].isnull().any())"
   ]
  },
  {
   "cell_type": "code",
   "execution_count": 17,
   "metadata": {},
   "outputs": [
    {
     "name": "stdout",
     "output_type": "stream",
     "text": [
      " Values: \n",
      "customer_Registration\n",
      "2014-07-28    3421\n",
      "2014-10-03    3355\n",
      "2014-08-04    2787\n",
      "2013-10-14    2633\n",
      "2013-08-03    2013\n",
      "              ... \n",
      "2013-06-15       1\n",
      "2012-04-29       1\n",
      "2014-12-13       1\n",
      "2014-04-26       1\n",
      "2013-09-22       1\n",
      "Name: count, Length: 6750, dtype: int64\n",
      "Null Values: \n",
      "customer_Registration    False\n",
      "dtype: bool\n"
     ]
    }
   ],
   "source": [
    "print(\" Values: \")\n",
    "print(df['customer_Registration'].value_counts())\n",
    "print(\"Null Values: \")\n",
    "print(df[['customer_Registration']].isnull().any())"
   ]
  },
  {
   "cell_type": "code",
   "execution_count": 18,
   "metadata": {},
   "outputs": [
    {
     "name": "stdout",
     "output_type": "stream",
     "text": [
      " Values: \n",
      "primary_Status\n",
      "1     927932\n",
      "99      1683\n",
      "Name: count, dtype: int64\n",
      "Null Values: \n",
      "primary_Status    False\n",
      "dtype: bool\n"
     ]
    }
   ],
   "source": [
    "print(\" Values: \")\n",
    "print(df['primary_Status'].value_counts())\n",
    "print(\"Null Values: \")\n",
    "print(df[['primary_Status']].isnull().any())"
   ]
  },
  {
   "cell_type": "code",
   "execution_count": 19,
   "metadata": {},
   "outputs": [
    {
     "name": "stdout",
     "output_type": "stream",
     "text": [
      " Values: \n",
      "Last_primary_status\n",
      "2016-06-01    138\n",
      "2016-06-10    133\n",
      "2016-06-03    110\n",
      "2016-06-07    102\n",
      "2016-06-06    101\n",
      "2016-06-13     84\n",
      "2016-06-20     84\n",
      "2016-06-17     78\n",
      "2016-06-15     78\n",
      "2016-06-23     78\n",
      "2016-06-14     76\n",
      "2016-06-02     75\n",
      "2016-06-09     75\n",
      "2016-06-22     72\n",
      "2016-06-21     70\n",
      "2016-06-24     64\n",
      "2016-06-16     62\n",
      "2016-06-08     60\n",
      "2016-06-27     58\n",
      "2016-06-28     49\n",
      "2016-06-29     36\n",
      "Name: count, dtype: int64\n",
      "Null Values: \n",
      "Last_primary_status    True\n",
      "dtype: bool\n"
     ]
    }
   ],
   "source": [
    "print(\" Values: \")\n",
    "print(df['Last_primary_status'].value_counts())\n",
    "print(\"Null Values: \")\n",
    "print(df[['Last_primary_status']].isnull().any())"
   ]
  },
  {
   "cell_type": "code",
   "execution_count": 20,
   "metadata": {},
   "outputs": [
    {
     "name": "stdout",
     "output_type": "stream",
     "text": [
      " Values: \n",
      "type_of_owner\n",
      "1.0    929565\n",
      "3.0        27\n",
      "Name: count, dtype: int64\n",
      "Null Values: \n",
      "type_of_owner    True\n",
      "dtype: bool\n"
     ]
    }
   ],
   "source": [
    "print(\" Values: \")\n",
    "print(df['type_of_owner'].value_counts())\n",
    "print(\"Null Values: \")\n",
    "print(df[['type_of_owner']].isnull().any())"
   ]
  },
  {
   "cell_type": "code",
   "execution_count": 21,
   "metadata": {},
   "outputs": [
    {
     "name": "stdout",
     "output_type": "stream",
     "text": [
      " Values: \n",
      "relation_type\n",
      "I    535943\n",
      "A    393622\n",
      "P        27\n",
      "Name: count, dtype: int64\n",
      "Null Values: \n",
      "relation_type    True\n",
      "dtype: bool\n"
     ]
    }
   ],
   "source": [
    "print(\" Values: \")\n",
    "print(df['relation_type'].value_counts())\n",
    "print(\"Null Values: \")\n",
    "print(df[['relation_type']].isnull().any())"
   ]
  },
  {
   "cell_type": "code",
   "execution_count": 22,
   "metadata": {},
   "outputs": [
    {
     "name": "stdout",
     "output_type": "stream",
     "text": [
      " Values: \n",
      "channel_used\n",
      "KHE    251665\n",
      "KAT    205833\n",
      "KFC    200697\n",
      "KHQ     74969\n",
      "KHM     33384\n",
      "        ...  \n",
      "KDB         1\n",
      "KHR         1\n",
      "KGN         1\n",
      "025         1\n",
      "KDL         1\n",
      "Name: count, Length: 162, dtype: int64\n",
      "Null Values: \n",
      "channel_used    True\n",
      "dtype: bool\n"
     ]
    }
   ],
   "source": [
    "print(\" Values: \")\n",
    "print(df['channel_used'].value_counts())\n",
    "print(\"Null Values: \")\n",
    "print(df[['channel_used']].isnull().any())"
   ]
  },
  {
   "cell_type": "code",
   "execution_count": 23,
   "metadata": {},
   "outputs": [
    {
     "name": "stdout",
     "output_type": "stream",
     "text": [
      " Values: \n",
      "deceased_index\n",
      "No     927215\n",
      "Yes      2400\n",
      "Name: count, dtype: int64\n",
      "Null Values: \n",
      "deceased_index    False\n",
      "dtype: bool\n"
     ]
    }
   ],
   "source": [
    "print(\" Values: \")\n",
    "print(df['deceased_index'].value_counts())\n",
    "print(\"Null Values: \")\n",
    "print(df[['deceased_index']].isnull().any())"
   ]
  },
  {
   "cell_type": "code",
   "execution_count": 24,
   "metadata": {},
   "outputs": [
    {
     "name": "stdout",
     "output_type": "stream",
     "text": [
      " Values: \n",
      "primary_adrss\n",
      "1    929615\n",
      "Name: count, dtype: int64\n",
      "Null Values: \n",
      "primary_adrss    False\n",
      "dtype: bool\n"
     ]
    }
   ],
   "source": [
    "print(\" Values: \")\n",
    "print(df['primary_adrss'].value_counts())\n",
    "print(\"Null Values: \")\n",
    "print(df[['primary_adrss']].isnull().any())"
   ]
  },
  {
   "cell_type": "code",
   "execution_count": 25,
   "metadata": {},
   "outputs": [
    {
     "name": "stdout",
     "output_type": "stream",
     "text": [
      " Values: \n",
      "prov_code\n",
      "28.0    298250\n",
      "8.0      88579\n",
      "46.0     47996\n",
      "41.0     40492\n",
      "15.0     28715\n",
      "30.0     27752\n",
      "29.0     24546\n",
      "50.0     23160\n",
      "3.0      22147\n",
      "11.0     19795\n",
      "36.0     18961\n",
      "33.0     18300\n",
      "35.0     16332\n",
      "47.0     16018\n",
      "6.0      12936\n",
      "45.0     12658\n",
      "48.0     12494\n",
      "18.0     12392\n",
      "37.0     11071\n",
      "39.0     10824\n",
      "14.0      9831\n",
      "7.0       9130\n",
      "10.0      8598\n",
      "13.0      8075\n",
      "21.0      8018\n",
      "2.0       7780\n",
      "43.0      7631\n",
      "12.0      7145\n",
      "9.0       6645\n",
      "17.0      6304\n",
      "31.0      6010\n",
      "26.0      5806\n",
      "24.0      5717\n",
      "27.0      5656\n",
      "32.0      5605\n",
      "25.0      5430\n",
      "38.0      5097\n",
      "20.0      4869\n",
      "19.0      4678\n",
      "23.0      4496\n",
      "4.0       4307\n",
      "16.0      3788\n",
      "49.0      3430\n",
      "34.0      3311\n",
      "40.0      2881\n",
      "22.0      2789\n",
      "5.0       2628\n",
      "1.0       2591\n",
      "44.0      1538\n",
      "42.0      1261\n",
      "52.0       643\n",
      "51.0       513\n",
      "Name: count, dtype: int64\n",
      "Null Values: \n",
      "prov_code    True\n",
      "dtype: bool\n"
     ]
    }
   ],
   "source": [
    "print(\" Values: \")\n",
    "print(df['prov_code'].value_counts())\n",
    "print(\"Null Values: \")\n",
    "print(df[['prov_code']].isnull().any())"
   ]
  },
  {
   "cell_type": "code",
   "execution_count": 26,
   "metadata": {},
   "outputs": [
    {
     "name": "stdout",
     "output_type": "stream",
     "text": [
      " Values: \n",
      "deceased_index\n",
      "No     927215\n",
      "Yes      2400\n",
      "Name: count, dtype: int64\n",
      "Null Values: \n",
      "deceased_index    False\n",
      "dtype: bool\n"
     ]
    }
   ],
   "source": [
    "print(\" Values: \")\n",
    "print(df['deceased_index'].value_counts())\n",
    "print(\"Null Values: \")\n",
    "print(df[['deceased_index']].isnull().any())"
   ]
  },
  {
   "cell_type": "code",
   "execution_count": 27,
   "metadata": {},
   "outputs": [
    {
     "name": "stdout",
     "output_type": "stream",
     "text": [
      " Values: \n",
      "prov_name\n",
      "MADRID                    298250\n",
      "BARCELONA                  88579\n",
      "VALENCIA                   47996\n",
      "SEVILLA                    40492\n",
      "CORUÑA, A                  28715\n",
      "MURCIA                     27752\n",
      "MALAGA                     24546\n",
      "ZARAGOZA                   23160\n",
      "ALICANTE                   22147\n",
      "CADIZ                      19795\n",
      "PONTEVEDRA                 18961\n",
      "ASTURIAS                   18300\n",
      "PALMAS, LAS                16332\n",
      "VALLADOLID                 16018\n",
      "BADAJOZ                    12936\n",
      "TOLEDO                     12658\n",
      "BIZKAIA                    12494\n",
      "GRANADA                    12392\n",
      "SALAMANCA                  11071\n",
      "CANTABRIA                  10824\n",
      "CORDOBA                     9831\n",
      "BALEARS, ILLES              9130\n",
      "CACERES                     8598\n",
      "CIUDAD REAL                 8075\n",
      "HUELVA                      8018\n",
      "ALBACETE                    7780\n",
      "TARRAGONA                   7631\n",
      "CASTELLON                   7145\n",
      "BURGOS                      6645\n",
      "GIRONA                      6304\n",
      "NAVARRA                     6010\n",
      "RIOJA, LA                   5806\n",
      "LEON                        5717\n",
      "LUGO                        5656\n",
      "OURENSE                     5605\n",
      "LERIDA                      5430\n",
      "SANTA CRUZ DE TENERIFE      5097\n",
      "GIPUZKOA                    4869\n",
      "GUADALAJARA                 4678\n",
      "JAEN                        4496\n",
      "ALMERIA                     4307\n",
      "CUENCA                      3788\n",
      "ZAMORA                      3430\n",
      "PALENCIA                    3311\n",
      "SEGOVIA                     2881\n",
      "HUESCA                      2789\n",
      "AVILA                       2628\n",
      "ALAVA                       2591\n",
      "TERUEL                      1538\n",
      "SORIA                       1261\n",
      "MELILLA                      643\n",
      "CEUTA                        513\n",
      "Name: count, dtype: int64\n",
      "Null Values: \n",
      "prov_name    True\n",
      "dtype: bool\n"
     ]
    }
   ],
   "source": [
    "print(\" Values: \")\n",
    "print(df['prov_name'].value_counts())\n",
    "print(\"Null Values: \")\n",
    "print(df[['prov_name']].isnull().any())"
   ]
  },
  {
   "cell_type": "code",
   "execution_count": 28,
   "metadata": {},
   "outputs": [
    {
     "name": "stdout",
     "output_type": "stream",
     "text": [
      " Values: \n",
      "activity_index\n",
      "0    534276\n",
      "1    395339\n",
      "Name: count, dtype: int64\n",
      "Null Values: \n",
      "activity_index    False\n",
      "dtype: bool\n"
     ]
    }
   ],
   "source": [
    "print(\" Values: \")\n",
    "print(df['activity_index'].value_counts())\n",
    "print(\"Null Values: \")\n",
    "print(df[['activity_index']].isnull().any())"
   ]
  },
  {
   "cell_type": "code",
   "execution_count": 29,
   "metadata": {},
   "outputs": [
    {
     "name": "stdout",
     "output_type": "stream",
     "text": [
      " Values: \n",
      "gross_income\n",
      "       NA    227965\n",
      "451931.22       354\n",
      "463625.16       111\n",
      "128318.52        91\n",
      "181042.20        91\n",
      "              ...  \n",
      " 41400.81         1\n",
      " 47322.18         1\n",
      "175518.57         1\n",
      "105938.64         1\n",
      "111644.01         1\n",
      "Name: count, Length: 516403, dtype: int64\n",
      "Null Values: \n",
      "gross_income    False\n",
      "dtype: bool\n"
     ]
    }
   ],
   "source": [
    "print(\" Values: \")\n",
    "print(df['gross_income'].value_counts())\n",
    "print(\"Null Values: \")\n",
    "print(df[['gross_income']].isnull().any())"
   ]
  },
  {
   "cell_type": "code",
   "execution_count": 30,
   "metadata": {},
   "outputs": [
    {
     "name": "stdout",
     "output_type": "stream",
     "text": [
      " Values: \n",
      "segmentation\n",
      "02 - PARTICULARES     545378\n",
      "03 - UNIVERSITARIO    346028\n",
      "01 - TOP               35961\n",
      "Name: count, dtype: int64\n",
      "Null Values: \n",
      "segmentation    True\n",
      "dtype: bool\n"
     ]
    }
   ],
   "source": [
    "print(\" Values: \")\n",
    "print(df['segmentation'].value_counts())\n",
    "print(\"Null Values: \")\n",
    "print(df[['segmentation']].isnull().any())"
   ]
  },
  {
   "cell_type": "code",
   "execution_count": 31,
   "metadata": {},
   "outputs": [],
   "source": [
    "df['Last_primary_status'] = df['Last_primary_status'].ffill()\n",
    "df['Last_primary_status'] = df['Last_primary_status'].bfill()\n",
    "df['type_of_owner'] = df['type_of_owner'].ffill()\n",
    "df['relation_type'] = df['relation_type'].ffill()\n",
    "df['channel_used'] = df['channel_used'].ffill()\n",
    "df['prov_code'] = df['prov_code'].ffill()\n",
    "df['prov_name'] = df['prov_name'].ffill()\n",
    "df['segmentation'] = df['segmentation'].ffill()\n",
    "\n"
   ]
  },
  {
   "cell_type": "code",
   "execution_count": 32,
   "metadata": {},
   "outputs": [
    {
     "data": {
      "text/plain": [
       "data_Partition           0\n",
       "employee_Index           0\n",
       "age                      0\n",
       "customer_Registration    0\n",
       "primary_Status           0\n",
       "Last_primary_status      0\n",
       "type_of_owner            0\n",
       "relation_type            0\n",
       "channel_used             0\n",
       "deceased_index           0\n",
       "primary_adrss            0\n",
       "prov_code                0\n",
       "prov_name                0\n",
       "activity_index           0\n",
       "gross_income             0\n",
       "segmentation             0\n",
       "dtype: int64"
      ]
     },
     "execution_count": 32,
     "metadata": {},
     "output_type": "execute_result"
    }
   ],
   "source": [
    "df.isnull().sum()"
   ]
  },
  {
   "cell_type": "code",
   "execution_count": 33,
   "metadata": {},
   "outputs": [
    {
     "name": "stdout",
     "output_type": "stream",
     "text": [
      "<class 'pandas.core.frame.DataFrame'>\n",
      "RangeIndex: 929615 entries, 0 to 929614\n",
      "Data columns (total 16 columns):\n",
      " #   Column                 Non-Null Count   Dtype  \n",
      "---  ------                 --------------   -----  \n",
      " 0   data_Partition         929615 non-null  object \n",
      " 1   employee_Index         929615 non-null  object \n",
      " 2   age                    929615 non-null  int64  \n",
      " 3   customer_Registration  929615 non-null  object \n",
      " 4   primary_Status         929615 non-null  int64  \n",
      " 5   Last_primary_status    929615 non-null  object \n",
      " 6   type_of_owner          929615 non-null  float64\n",
      " 7   relation_type          929615 non-null  object \n",
      " 8   channel_used           929615 non-null  object \n",
      " 9   deceased_index         929615 non-null  object \n",
      " 10  primary_adrss          929615 non-null  int64  \n",
      " 11  prov_code              929615 non-null  float64\n",
      " 12  prov_name              929615 non-null  object \n",
      " 13  activity_index         929615 non-null  int64  \n",
      " 14  gross_income           929615 non-null  object \n",
      " 15  segmentation           929615 non-null  object \n",
      "dtypes: float64(2), int64(4), object(10)\n",
      "memory usage: 113.5+ MB\n"
     ]
    }
   ],
   "source": [
    "df.info()"
   ]
  },
  {
   "cell_type": "code",
   "execution_count": 34,
   "metadata": {},
   "outputs": [
    {
     "data": {
      "image/png": "[encoded data removed]",
      "text/plain": [
       "<Figure size 2000x1500 with 1 Axes>"
      ]
     },
     "metadata": {},
     "output_type": "display_data"
    }
   ],
   "source": [
    "plt.figure(figsize=(20,15))\n",
    "ax=sns.boxplot(data = df, palette='BuPu')\n",
    "plt.xticks(rotation=90)\n",
    "\n",
    "plt.show()\n",
    "\n",
    "     "
   ]
  },
  {
   "cell_type": "markdown",
   "metadata": {},
   "source": [
    "WEEK 10 EDA "
   ]
  },
  {
   "cell_type": "code",
   "execution_count": 35,
   "metadata": {},
   "outputs": [
    {
     "data": {
      "text/plain": [
       "0         False\n",
       "1         False\n",
       "2         False\n",
       "3         False\n",
       "4         False\n",
       "          ...  \n",
       "929610    False\n",
       "929611    False\n",
       "929612    False\n",
       "929613    False\n",
       "929614    False\n",
       "Length: 929615, dtype: bool"
      ]
     },
     "execution_count": 35,
     "metadata": {},
     "output_type": "execute_result"
    }
   ],
   "source": [
    "df.duplicated()"
   ]
  },
  {
   "cell_type": "code",
   "execution_count": 36,
   "metadata": {},
   "outputs": [
    {
     "data": {
      "text/html": [
       "<div>\n",
       "<style scoped>\n",
       "    .dataframe tbody tr th:only-of-type {\n",
       "        vertical-align: middle;\n",
       "    }\n",
       "\n",
       "    .dataframe tbody tr th {\n",
       "        vertical-align: top;\n",
       "    }\n",
       "\n",
       "    .dataframe thead th {\n",
       "        text-align: right;\n",
       "    }\n",
       "</style>\n",
       "<table border=\"1\" class=\"dataframe\">\n",
       "  <thead>\n",
       "    <tr style=\"text-align: right;\">\n",
       "      <th></th>\n",
       "      <th>data_Partition</th>\n",
       "      <th>employee_Index</th>\n",
       "      <th>age</th>\n",
       "      <th>customer_Registration</th>\n",
       "      <th>primary_Status</th>\n",
       "      <th>Last_primary_status</th>\n",
       "      <th>type_of_owner</th>\n",
       "      <th>relation_type</th>\n",
       "      <th>channel_used</th>\n",
       "      <th>deceased_index</th>\n",
       "      <th>primary_adrss</th>\n",
       "      <th>prov_code</th>\n",
       "      <th>prov_name</th>\n",
       "      <th>activity_index</th>\n",
       "      <th>gross_income</th>\n",
       "      <th>segmentation</th>\n",
       "    </tr>\n",
       "  </thead>\n",
       "  <tbody>\n",
       "    <tr>\n",
       "      <th>11</th>\n",
       "      <td>2016-06-28</td>\n",
       "      <td>N</td>\n",
       "      <td>22</td>\n",
       "      <td>2013-08-28</td>\n",
       "      <td>1</td>\n",
       "      <td>2016-06-03</td>\n",
       "      <td>1.0</td>\n",
       "      <td>I</td>\n",
       "      <td>KHE</td>\n",
       "      <td>No</td>\n",
       "      <td>1</td>\n",
       "      <td>28.0</td>\n",
       "      <td>MADRID</td>\n",
       "      <td>0</td>\n",
       "      <td>NA</td>\n",
       "      <td>03 - UNIVERSITARIO</td>\n",
       "    </tr>\n",
       "    <tr>\n",
       "      <th>28</th>\n",
       "      <td>2016-06-28</td>\n",
       "      <td>N</td>\n",
       "      <td>22</td>\n",
       "      <td>2013-08-28</td>\n",
       "      <td>1</td>\n",
       "      <td>2016-06-03</td>\n",
       "      <td>1.0</td>\n",
       "      <td>I</td>\n",
       "      <td>KHE</td>\n",
       "      <td>No</td>\n",
       "      <td>1</td>\n",
       "      <td>8.0</td>\n",
       "      <td>BARCELONA</td>\n",
       "      <td>0</td>\n",
       "      <td>NA</td>\n",
       "      <td>03 - UNIVERSITARIO</td>\n",
       "    </tr>\n",
       "    <tr>\n",
       "      <th>52</th>\n",
       "      <td>2016-06-28</td>\n",
       "      <td>N</td>\n",
       "      <td>22</td>\n",
       "      <td>2013-08-28</td>\n",
       "      <td>1</td>\n",
       "      <td>2016-06-03</td>\n",
       "      <td>1.0</td>\n",
       "      <td>I</td>\n",
       "      <td>KHE</td>\n",
       "      <td>No</td>\n",
       "      <td>1</td>\n",
       "      <td>15.0</td>\n",
       "      <td>CORUÑA, A</td>\n",
       "      <td>0</td>\n",
       "      <td>NA</td>\n",
       "      <td>03 - UNIVERSITARIO</td>\n",
       "    </tr>\n",
       "    <tr>\n",
       "      <th>59</th>\n",
       "      <td>2016-06-28</td>\n",
       "      <td>N</td>\n",
       "      <td>22</td>\n",
       "      <td>2013-08-28</td>\n",
       "      <td>1</td>\n",
       "      <td>2016-06-03</td>\n",
       "      <td>1.0</td>\n",
       "      <td>I</td>\n",
       "      <td>KHE</td>\n",
       "      <td>No</td>\n",
       "      <td>1</td>\n",
       "      <td>45.0</td>\n",
       "      <td>TOLEDO</td>\n",
       "      <td>0</td>\n",
       "      <td>NA</td>\n",
       "      <td>03 - UNIVERSITARIO</td>\n",
       "    </tr>\n",
       "    <tr>\n",
       "      <th>61</th>\n",
       "      <td>2016-06-28</td>\n",
       "      <td>N</td>\n",
       "      <td>22</td>\n",
       "      <td>2013-08-28</td>\n",
       "      <td>1</td>\n",
       "      <td>2016-06-03</td>\n",
       "      <td>1.0</td>\n",
       "      <td>I</td>\n",
       "      <td>KHE</td>\n",
       "      <td>No</td>\n",
       "      <td>1</td>\n",
       "      <td>45.0</td>\n",
       "      <td>TOLEDO</td>\n",
       "      <td>0</td>\n",
       "      <td>NA</td>\n",
       "      <td>03 - UNIVERSITARIO</td>\n",
       "    </tr>\n",
       "    <tr>\n",
       "      <th>...</th>\n",
       "      <td>...</td>\n",
       "      <td>...</td>\n",
       "      <td>...</td>\n",
       "      <td>...</td>\n",
       "      <td>...</td>\n",
       "      <td>...</td>\n",
       "      <td>...</td>\n",
       "      <td>...</td>\n",
       "      <td>...</td>\n",
       "      <td>...</td>\n",
       "      <td>...</td>\n",
       "      <td>...</td>\n",
       "      <td>...</td>\n",
       "      <td>...</td>\n",
       "      <td>...</td>\n",
       "      <td>...</td>\n",
       "    </tr>\n",
       "    <tr>\n",
       "      <th>926394</th>\n",
       "      <td>2016-06-28</td>\n",
       "      <td>N</td>\n",
       "      <td>19</td>\n",
       "      <td>2006-12-15</td>\n",
       "      <td>1</td>\n",
       "      <td>2016-06-09</td>\n",
       "      <td>1.0</td>\n",
       "      <td>I</td>\n",
       "      <td>KAT</td>\n",
       "      <td>No</td>\n",
       "      <td>1</td>\n",
       "      <td>28.0</td>\n",
       "      <td>MADRID</td>\n",
       "      <td>0</td>\n",
       "      <td>216100.83</td>\n",
       "      <td>02 - PARTICULARES</td>\n",
       "    </tr>\n",
       "    <tr>\n",
       "      <th>926427</th>\n",
       "      <td>2016-06-28</td>\n",
       "      <td>N</td>\n",
       "      <td>54</td>\n",
       "      <td>2006-12-12</td>\n",
       "      <td>1</td>\n",
       "      <td>2016-06-09</td>\n",
       "      <td>1.0</td>\n",
       "      <td>I</td>\n",
       "      <td>KAH</td>\n",
       "      <td>No</td>\n",
       "      <td>1</td>\n",
       "      <td>32.0</td>\n",
       "      <td>OURENSE</td>\n",
       "      <td>0</td>\n",
       "      <td>67864.32</td>\n",
       "      <td>02 - PARTICULARES</td>\n",
       "    </tr>\n",
       "    <tr>\n",
       "      <th>927656</th>\n",
       "      <td>2016-06-28</td>\n",
       "      <td>N</td>\n",
       "      <td>44</td>\n",
       "      <td>2006-12-21</td>\n",
       "      <td>1</td>\n",
       "      <td>2016-06-10</td>\n",
       "      <td>1.0</td>\n",
       "      <td>A</td>\n",
       "      <td>KFA</td>\n",
       "      <td>No</td>\n",
       "      <td>1</td>\n",
       "      <td>28.0</td>\n",
       "      <td>MADRID</td>\n",
       "      <td>1</td>\n",
       "      <td>135400.71</td>\n",
       "      <td>02 - PARTICULARES</td>\n",
       "    </tr>\n",
       "    <tr>\n",
       "      <th>928314</th>\n",
       "      <td>2016-06-28</td>\n",
       "      <td>N</td>\n",
       "      <td>45</td>\n",
       "      <td>2006-11-20</td>\n",
       "      <td>1</td>\n",
       "      <td>2016-06-17</td>\n",
       "      <td>1.0</td>\n",
       "      <td>I</td>\n",
       "      <td>KFC</td>\n",
       "      <td>No</td>\n",
       "      <td>1</td>\n",
       "      <td>20.0</td>\n",
       "      <td>GIPUZKOA</td>\n",
       "      <td>0</td>\n",
       "      <td>NA</td>\n",
       "      <td>02 - PARTICULARES</td>\n",
       "    </tr>\n",
       "    <tr>\n",
       "      <th>928920</th>\n",
       "      <td>2016-06-28</td>\n",
       "      <td>N</td>\n",
       "      <td>48</td>\n",
       "      <td>2006-12-01</td>\n",
       "      <td>1</td>\n",
       "      <td>2016-06-01</td>\n",
       "      <td>1.0</td>\n",
       "      <td>A</td>\n",
       "      <td>KAT</td>\n",
       "      <td>No</td>\n",
       "      <td>1</td>\n",
       "      <td>7.0</td>\n",
       "      <td>BALEARS, ILLES</td>\n",
       "      <td>1</td>\n",
       "      <td>110995.56</td>\n",
       "      <td>02 - PARTICULARES</td>\n",
       "    </tr>\n",
       "  </tbody>\n",
       "</table>\n",
       "<p>37907 rows × 16 columns</p>\n",
       "</div>"
      ],
      "text/plain": [
       "       data_Partition employee_Index  age customer_Registration  \\\n",
       "11         2016-06-28              N   22            2013-08-28   \n",
       "28         2016-06-28              N   22            2013-08-28   \n",
       "52         2016-06-28              N   22            2013-08-28   \n",
       "59         2016-06-28              N   22            2013-08-28   \n",
       "61         2016-06-28              N   22            2013-08-28   \n",
       "...               ...            ...  ...                   ...   \n",
       "926394     2016-06-28              N   19            2006-12-15   \n",
       "926427     2016-06-28              N   54            2006-12-12   \n",
       "927656     2016-06-28              N   44            2006-12-21   \n",
       "928314     2016-06-28              N   45            2006-11-20   \n",
       "928920     2016-06-28              N   48            2006-12-01   \n",
       "\n",
       "        primary_Status Last_primary_status  type_of_owner relation_type  \\\n",
       "11                   1          2016-06-03            1.0             I   \n",
       "28                   1          2016-06-03            1.0             I   \n",
       "52                   1          2016-06-03            1.0             I   \n",
       "59                   1          2016-06-03            1.0             I   \n",
       "61                   1          2016-06-03            1.0             I   \n",
       "...                ...                 ...            ...           ...   \n",
       "926394               1          2016-06-09            1.0             I   \n",
       "926427               1          2016-06-09            1.0             I   \n",
       "927656               1          2016-06-10            1.0             A   \n",
       "928314               1          2016-06-17            1.0             I   \n",
       "928920               1          2016-06-01            1.0             A   \n",
       "\n",
       "       channel_used deceased_index  primary_adrss  prov_code       prov_name  \\\n",
       "11              KHE             No              1       28.0          MADRID   \n",
       "28              KHE             No              1        8.0       BARCELONA   \n",
       "52              KHE             No              1       15.0       CORUÑA, A   \n",
       "59              KHE             No              1       45.0          TOLEDO   \n",
       "61              KHE             No              1       45.0          TOLEDO   \n",
       "...             ...            ...            ...        ...             ...   \n",
       "926394          KAT             No              1       28.0          MADRID   \n",
       "926427          KAH             No              1       32.0         OURENSE   \n",
       "927656          KFA             No              1       28.0          MADRID   \n",
       "928314          KFC             No              1       20.0        GIPUZKOA   \n",
       "928920          KAT             No              1        7.0  BALEARS, ILLES   \n",
       "\n",
       "        activity_index gross_income        segmentation  \n",
       "11                   0           NA  03 - UNIVERSITARIO  \n",
       "28                   0           NA  03 - UNIVERSITARIO  \n",
       "52                   0           NA  03 - UNIVERSITARIO  \n",
       "59                   0           NA  03 - UNIVERSITARIO  \n",
       "61                   0           NA  03 - UNIVERSITARIO  \n",
       "...                ...          ...                 ...  \n",
       "926394               0    216100.83   02 - PARTICULARES  \n",
       "926427               0     67864.32   02 - PARTICULARES  \n",
       "927656               1    135400.71   02 - PARTICULARES  \n",
       "928314               0           NA   02 - PARTICULARES  \n",
       "928920               1    110995.56   02 - PARTICULARES  \n",
       "\n",
       "[37907 rows x 16 columns]"
      ]
     },
     "execution_count": 36,
     "metadata": {},
     "output_type": "execute_result"
    }
   ],
   "source": [
    "df.loc[df.duplicated()]"
   ]
  },
  {
   "cell_type": "code",
   "execution_count": 37,
   "metadata": {},
   "outputs": [
    {
     "name": "stdout",
     "output_type": "stream",
     "text": [
      "<class 'pandas.core.frame.DataFrame'>\n",
      "RangeIndex: 929615 entries, 0 to 929614\n",
      "Data columns (total 16 columns):\n",
      " #   Column                 Non-Null Count   Dtype  \n",
      "---  ------                 --------------   -----  \n",
      " 0   data_Partition         929615 non-null  object \n",
      " 1   employee_Index         929615 non-null  object \n",
      " 2   age                    929615 non-null  int64  \n",
      " 3   customer_Registration  929615 non-null  object \n",
      " 4   primary_Status         929615 non-null  int64  \n",
      " 5   Last_primary_status    929615 non-null  object \n",
      " 6   type_of_owner          929615 non-null  float64\n",
      " 7   relation_type          929615 non-null  object \n",
      " 8   channel_used           929615 non-null  object \n",
      " 9   deceased_index         929615 non-null  object \n",
      " 10  primary_adrss          929615 non-null  int64  \n",
      " 11  prov_code              929615 non-null  float64\n",
      " 12  prov_name              929615 non-null  object \n",
      " 13  activity_index         929615 non-null  int64  \n",
      " 14  gross_income           929615 non-null  object \n",
      " 15  segmentation           929615 non-null  object \n",
      "dtypes: float64(2), int64(4), object(10)\n",
      "memory usage: 113.5+ MB\n"
     ]
    }
   ],
   "source": [
    "df.info()"
   ]
  },
  {
   "cell_type": "code",
   "execution_count": 38,
   "metadata": {},
   "outputs": [
    {
     "data": {
      "text/plain": [
       "Text(0, 0.5, 'Values')"
      ]
     },
     "execution_count": 38,
     "metadata": {},
     "output_type": "execute_result"
    },
    {
     "data": {
      "image/png": "[encoded data removed]",
      "text/plain": [
       "<Figure size 640x480 with 1 Axes>"
      ]
     },
     "metadata": {},
     "output_type": "display_data"
    }
   ],
   "source": [
    "threshold = 1000000\n",
    "ax= df['employee_Index'].value_counts() \\\n",
    "    .loc[lambda x: x < threshold] \\\n",
    "    .plot(kind='bar',title =\"Employee index: A active, B ex employed, F filial, N not employee, P pasive\")\n",
    "ax.set_ylabel(\"Values\")\n"
   ]
  },
  {
   "cell_type": "code",
   "execution_count": 39,
   "metadata": {},
   "outputs": [
    {
     "data": {
      "text/plain": [
       "Text(0, 0.5, 'Values')"
      ]
     },
     "execution_count": 39,
     "metadata": {},
     "output_type": "execute_result"
    },
    {
     "data": {
      "image/png": "[encoded data removed]",
      "text/plain": [
       "<Figure size 640x480 with 1 Axes>"
      ]
     },
     "metadata": {},
     "output_type": "display_data"
    }
   ],
   "source": [
    "threshold = 10000 \n",
    "ax = df['employee_Index'].value_counts() \\\n",
    "    .loc[lambda x: x < threshold] \\\n",
    "    .plot(kind='bar', title='Employment Map: A active, B ex employed, F filial, N not employee, P pasive')\n",
    "ax.set_ylabel(\"Values\")"
   ]
  },
  {
   "cell_type": "code",
   "execution_count": 40,
   "metadata": {},
   "outputs": [
    {
     "data": {
      "text/plain": [
       "Text(0, 0.5, 'Values')"
      ]
     },
     "execution_count": 40,
     "metadata": {},
     "output_type": "execute_result"
    },
    {
     "data": {
      "image/png": "[encoded data removed]",
      "text/plain": [
       "<Figure size 640x480 with 1 Axes>"
      ]
     },
     "metadata": {},
     "output_type": "display_data"
    }
   ],
   "source": [
    "age_bins = pd.cut(df['age'], bins=[0, 10, 20, 30, 40, 50, 60, 70, 80, 90, 100])\n",
    "age_counts = df['age'].groupby(age_bins).size()\n",
    "age_counts.plot(kind='bar', title = 'Age of customers')\n",
    "\n",
    "plt.ylabel('Values')\n",
    "\n"
   ]
  },
  {
   "cell_type": "code",
   "execution_count": 41,
   "metadata": {},
   "outputs": [
    {
     "data": {
      "image/png": "[encoded data removed]",
      "text/plain": [
       "<Figure size 640x480 with 1 Axes>"
      ]
     },
     "metadata": {},
     "output_type": "display_data"
    }
   ],
   "source": [
    "ax = df['relation_type'].value_counts() \\\n",
    ".plot(kind='pie',autopct='%1.1f%%',title=\"'Customer relation at the begining of the month A (active), I (inactive), P (former customer)\")"
   ]
  },
  {
   "cell_type": "code",
   "execution_count": 42,
   "metadata": {},
   "outputs": [
    {
     "data": {
      "image/png": "[encoded data removed]",
      "text/plain": [
       "<Figure size 1200x800 with 1 Axes>"
      ]
     },
     "metadata": {},
     "output_type": "display_data"
    }
   ],
   "source": [
    "\n",
    "top_n = df['channel_used'].value_counts().head(25)\n",
    "\n",
    "\n",
    "top_n.plot(kind='barh', figsize=(12, 8))\n",
    "plt.title('Top 25 Channel Usage Distribution')\n",
    "plt.xlabel('Count')\n",
    "plt.ylabel('Channel Used')\n",
    "plt.show()\n",
    "\n"
   ]
  },
  {
   "cell_type": "code",
   "execution_count": 43,
   "metadata": {},
   "outputs": [
    {
     "data": {
      "image/png": "[encoded data removed]",
      "text/plain": [
       "<Figure size 1200x800 with 1 Axes>"
      ]
     },
     "metadata": {},
     "output_type": "display_data"
    }
   ],
   "source": [
    "\n",
    "bottom_25 = df['channel_used'].value_counts().tail(25)\n",
    "\n",
    "\n",
    "bottom_25.plot(kind='barh', figsize=(12, 8), color='skyblue')\n",
    "plt.title('Bottom 25 Channel Usage Distribution')\n",
    "plt.xlabel('Count')\n",
    "plt.ylabel('Channel Used')\n",
    "plt.show()\n"
   ]
  },
  {
   "cell_type": "code",
   "execution_count": 44,
   "metadata": {},
   "outputs": [
    {
     "data": {
      "image/png": "[encoded data removed]",
      "text/plain": [
       "<Figure size 640x480 with 1 Axes>"
      ]
     },
     "metadata": {},
     "output_type": "display_data"
    }
   ],
   "source": [
    "ax = df['deceased_index'].value_counts() \\\n",
    ".plot(kind='pie',autopct='%1.1f%%')"
   ]
  },
  {
   "cell_type": "code",
   "execution_count": 45,
   "metadata": {},
   "outputs": [
    {
     "data": {
      "image/png": "[encoded data removed]",
      "text/plain": [
       "<Figure size 640x480 with 1 Axes>"
      ]
     },
     "metadata": {},
     "output_type": "display_data"
    }
   ],
   "source": [
    "ax = df['activity_index'].value_counts() \\\n",
    ".plot(kind='pie',autopct='%1.1f%%',title=\"Activity Index: 1-active customer 0-inactive customer\")"
   ]
  },
  {
   "cell_type": "code",
   "execution_count": 46,
   "metadata": {},
   "outputs": [
    {
     "data": {
      "image/png": "[encoded data removed]",
      "text/plain": [
       "<Figure size 640x480 with 1 Axes>"
      ]
     },
     "metadata": {},
     "output_type": "display_data"
    }
   ],
   "source": [
    "ax = df['segmentation'].value_counts() \\\n",
    ".plot(kind='pie',autopct='%1.1f%%',title=\"Segmentation\")"
   ]
  },
  {
   "cell_type": "code",
   "execution_count": 47,
   "metadata": {},
   "outputs": [],
   "source": [
    "df['gross_income'] = pd.to_numeric(df['gross_income'], errors='coerce')\n"
   ]
  },
  {
   "cell_type": "code",
   "execution_count": 48,
   "metadata": {},
   "outputs": [
    {
     "name": "stdout",
     "output_type": "stream",
     "text": [
      "<class 'pandas.core.frame.DataFrame'>\n",
      "RangeIndex: 929615 entries, 0 to 929614\n",
      "Data columns (total 16 columns):\n",
      " #   Column                 Non-Null Count   Dtype  \n",
      "---  ------                 --------------   -----  \n",
      " 0   data_Partition         929615 non-null  object \n",
      " 1   employee_Index         929615 non-null  object \n",
      " 2   age                    929615 non-null  int64  \n",
      " 3   customer_Registration  929615 non-null  object \n",
      " 4   primary_Status         929615 non-null  int64  \n",
      " 5   Last_primary_status    929615 non-null  object \n",
      " 6   type_of_owner          929615 non-null  float64\n",
      " 7   relation_type          929615 non-null  object \n",
      " 8   channel_used           929615 non-null  object \n",
      " 9   deceased_index         929615 non-null  object \n",
      " 10  primary_adrss          929615 non-null  int64  \n",
      " 11  prov_code              929615 non-null  float64\n",
      " 12  prov_name              929615 non-null  object \n",
      " 13  activity_index         929615 non-null  int64  \n",
      " 14  gross_income           701650 non-null  float64\n",
      " 15  segmentation           929615 non-null  object \n",
      "dtypes: float64(3), int64(4), object(9)\n",
      "memory usage: 113.5+ MB\n"
     ]
    }
   ],
   "source": [
    "df.info()"
   ]
  },
  {
   "cell_type": "code",
   "execution_count": 49,
   "metadata": {},
   "outputs": [
    {
     "data": {
      "text/plain": [
       "<Axes: xlabel='age', ylabel='gross_income'>"
      ]
     },
     "execution_count": 49,
     "metadata": {},
     "output_type": "execute_result"
    },
    {
     "data": {
      "image/png": "[encoded data removed]",
      "text/plain": [
       "<Figure size 640x480 with 1 Axes>"
      ]
     },
     "metadata": {},
     "output_type": "display_data"
    }
   ],
   "source": [
    "df.plot(kind='scatter',x='age',y='gross_income')"
   ]
  },
  {
   "cell_type": "code",
   "execution_count": 50,
   "metadata": {},
   "outputs": [],
   "source": [
    "import pandas as pd \n",
    "from ydata_profiling import ProfileReport\n",
    "\n",
    "report= ProfileReport(df)"
   ]
  },
  {
   "cell_type": "code",
   "execution_count": null,
   "metadata": {},
   "outputs": [],
   "source": [
    "cn_df = df.copy()\n",
    "cn_df"
   ]
  },
  {
   "cell_type": "code",
   "execution_count": null,
   "metadata": {},
   "outputs": [],
   "source": [
    "X = cn_df.drop(['y'], axis=1)\n",
    "y = cn_df.y"
   ]
  },
  {
   "cell_type": "code",
   "execution_count": null,
   "metadata": {},
   "outputs": [],
   "source": [
    "X_train, X_test, y_train, y_test = train_test_split(X, y, test_size=0.3, random_state=42)\n",
    "print(\"X and Y train shape:\", X_train.shape, y_train.shape)\n",
    "print(\"X and Y test shape:\", X_test.shape, y_test.shape)"
   ]
  },
  {
   "cell_type": "code",
   "execution_count": null,
   "metadata": {},
   "outputs": [],
   "source": [
    "scaler = StandardScaler()\n",
    "X_train_scaled = scaler.fit_transform(X_train)\n",
    "X_test_scaled = scaler.transform(X_test)"
   ]
  },
  {
   "cell_type": "code",
   "execution_count": null,
   "metadata": {},
   "outputs": [],
   "source": [
    "rf = RandomForestClassifier(random_state=42)\n",
    "gb = GradientBoostingClassifier(random_state=42)"
   ]
  },
  {
   "cell_type": "code",
   "execution_count": null,
   "metadata": {},
   "outputs": [],
   "source": [
    "print(\"\\n--- Hyperparameter Tuning for Random Forest ---\")\n",
    "rf_param_grid = {\n",
    "    'n_estimators': [100, 200, 300],\n",
    "    'max_depth': [None, 10, 20, 30],\n",
    "    'min_samples_split': [2, 5, 10],\n",
    "    'min_samples_leaf': [1, 2, 4],\n",
    "    'bootstrap': [True, False]\n",
    "}"
   ]
  },
  {
   "cell_type": "code",
   "execution_count": null,
   "metadata": {},
   "outputs": [],
   "source": [
    "\n",
    "rf_grid_search = GridSearchCV(\n",
    "    estimator=rf,\n",
    "    param_grid=rf_param_grid,\n",
    "    cv=5,\n",
    "    n_jobs=-1,\n",
    "    verbose=1,\n",
    "    scoring='accuracy'\n",
    ")"
   ]
  },
  {
   "cell_type": "code",
   "execution_count": null,
   "metadata": {},
   "outputs": [],
   "source": [
    "rf_grid_search.fit(X_train_scaled, y_train)\n",
    "print(\"Best parameters for Random Forest:\", rf_grid_search.best_params_)\n",
    "print(\"Best cross-validation accuracy for Random Forest: {:.2f}%\".format(rf_grid_search.best_score_ * 100))\n"
   ]
  },
  {
   "cell_type": "code",
   "execution_count": null,
   "metadata": {},
   "outputs": [],
   "source": [
    "best_rf = rf_grid_search.best_estimator_\n",
    "best_rf.fit(X_train_scaled, y_train)\n",
    "rf_pred = best_rf.predict(X_test_scaled)\n",
    "rf_accuracy = best_rf.score(X_test_scaled, y_test) * 100\n",
    "print(\"\\nAccuracy of Random Forest classifier on test set: {:.2f}%\".format(rf_accuracy))\n"
   ]
  },
  {
   "cell_type": "code",
   "execution_count": null,
   "metadata": {},
   "outputs": [],
   "source": [
    "rf_roc_auc = roc_auc_score(y_test, best_rf.predict_proba(X_test_scaled)[:,1])\n",
    "fpr_rf, tpr_rf, _ = roc_curve(y_test, best_rf.predict_proba(X_test_scaled)[:,1])"
   ]
  },
  {
   "cell_type": "code",
   "execution_count": null,
   "metadata": {},
   "outputs": [],
   "source": [
    "print(\"\\n--- Hyperparameter Tuning for Gradient Boosting ---\")\n",
    "gb_param_grid = {\n",
    "    'n_estimators': [100, 200, 300],\n",
    "    'learning_rate': [0.01, 0.1, 0.2],\n",
    "    'max_depth': [3, 5, 7],\n",
    "    'min_samples_split': [2, 5, 10],\n",
    "    'min_samples_leaf': [1, 2, 4]\n",
    "}\n",
    "\n",
    "gb_grid_search = GridSearchCV(\n",
    "    estimator=gb,\n",
    "    param_grid=gb_param_grid,\n",
    "    cv=5,\n",
    "    n_jobs=-1,\n",
    "    verbose=1,\n",
    "    scoring='accuracy'\n",
    ")\n",
    "\n",
    "gb_grid_search.fit(X_train_scaled, y_train)\n",
    "print(\"Best parameters for Gradient Boosting:\", gb_grid_search.best_params_)\n",
    "print(\"Best cross-validation accuracy for Gradient Boosting: {:.2f}%\".format(gb_grid_search.best_score_ * 100))\n"
   ]
  },
  {
   "cell_type": "code",
   "execution_count": null,
   "metadata": {},
   "outputs": [],
   "source": [
    "best_gb = gb_grid_search.best_estimator_\n",
    "best_gb.fit(X_train_scaled, y_train)\n",
    "gb_pred = best_gb.predict(X_test_scaled)\n",
    "gb_accuracy = best_gb.score(X_test_scaled, y_test) * 100\n",
    "print(\"\\nAccuracy of Gradient Boosting classifier on test set: {:.2f}%\".format(gb_accuracy))\n"
   ]
  },
  {
   "cell_type": "code",
   "execution_count": null,
   "metadata": {},
   "outputs": [],
   "source": [
    "gb_cm = confusion_matrix(y_test, gb_pred)\n",
    "print(\"Confusion Matrix for Gradient Boosting:\\n\", gb_cm)\n",
    "gb_cr = classification_report(y_test, gb_pred)\n",
    "print(\"Classification Report for Gradient Boosting:\\n\", gb_cr)"
   ]
  },
  {
   "cell_type": "code",
   "execution_count": null,
   "metadata": {},
   "outputs": [],
   "source": [
    "logit_roc_auc = roc_auc_score(y_test, logreg.predict(X_test_scaled))\n",
    "fpr_lr, tpr_lr, _ = roc_curve(y_test, logreg.predict_proba(X_test_scaled)[:,1])\n",
    "\n",
    "plt.figure(figsize=(10, 8))\n",
    "plt.plot(fpr_lr, tpr_lr, label='Logistic Regression (AUC = %0.2f)' % logit_roc_auc)\n",
    "plt.plot(fpr_rf, tpr_rf, label='Random Forest (AUC = %0.2f)' % rf_roc_auc)\n",
    "plt.plot(fpr_gb, tpr_gb, label='Gradient Boosting (AUC = %0.2f)' % gb_roc_auc)\n",
    "plt.plot([0, 1], [0, 1], 'r--')  # Diagonal line\n",
    "plt.xlim([-0.01, 1.0])\n",
    "plt.ylim([0.0, 1.05])\n",
    "plt.xlabel('False Positive Rate', fontsize=14)\n",
    "plt.ylabel('True Positive Rate', fontsize=14)\n",
    "plt.title('Receiver Operating Characteristic (ROC) Curves', fontsize=16)\n",
    "plt.legend(loc=\"lower right\", fontsize=12)\n",
    "plt.grid(True)\n",
    "plt.show()"
   ]
  }
 ],
 "metadata": {
  "kernelspec": {
   "display_name": "Python 3",
   "language": "python",
   "name": "python3"
  },
  "language_info": {
   "codemirror_mode": {
    "name": "ipython",
    "version": 3
   },
   "file_extension": ".py",
   "mimetype": "text/x-python",
   "name": "python",
   "nbconvert_exporter": "python",
   "pygments_lexer": "ipython3",
   "version": "3.11.5"
  }
 },
 "nbformat": 4,
 "nbformat_minor": 2
}
